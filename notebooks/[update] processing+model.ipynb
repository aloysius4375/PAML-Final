{
 "cells": [
  {
   "cell_type": "code",
   "execution_count": 14,
   "metadata": {},
   "outputs": [],
   "source": [
    "import pandas as pd\n",
    "import numpy as np\n",
    "from sklearn.preprocessing import LabelEncoder\n",
    "from sklearn.ensemble import RandomForestClassifier, AdaBoostClassifier\n",
    "from xgboost import XGBClassifier\n",
    "from sklearn.model_selection import train_test_split\n",
    "import pickle\n",
    "\n",
    "def preprocessing(df):\n",
    "    data_df_without_nan = df.dropna(axis=0)\n",
    "    features_df = data_df_without_nan[['Severity','Distance(mi)','Description','Start_Time','End_Time','Timezone','Weather_Timestamp','Temperature(F)', 'Wind_Chill(F)',\n",
    "       'Humidity(%)', 'Pressure(in)', 'Visibility(mi)', 'Wind_Direction',\n",
    "       'Wind_Speed(mph)', 'Precipitation(in)', 'Weather_Condition', 'Amenity',\n",
    "       'Bump', 'Crossing', 'Give_Way', 'Junction', 'No_Exit', 'Railway',\n",
    "       'Roundabout', 'Station', 'Stop', 'Traffic_Calming', 'Traffic_Signal',\n",
    "       'Turning_Loop', 'Sunrise_Sunset', 'Civil_Twilight', 'Nautical_Twilight',\n",
    "       'Astronomical_Twilight']]\n",
    "\n",
    "    input_df = features_df.drop(['Description','Start_Time','End_Time','Timezone','Weather_Timestamp','Wind_Direction','Distance(mi)'],axis=1)\n",
    "    encoders = {}\n",
    "    for column in ['Weather_Condition', 'Amenity', 'Bump', 'Crossing',\n",
    "               'Give_Way', 'Junction', 'No_Exit', 'Railway', 'Roundabout', 'Station',\n",
    "               'Stop', 'Traffic_Calming', 'Traffic_Signal', 'Turning_Loop',\n",
    "               'Sunrise_Sunset', 'Civil_Twilight', 'Nautical_Twilight',\n",
    "               'Astronomical_Twilight']:\n",
    "        le = LabelEncoder()\n",
    "        input_df[column] = le.fit_transform(input_df[column])\n",
    "        encoders[column] = le \n",
    "\n",
    "    with open('label_encoders.pkl', 'wb') as f:\n",
    "        pickle.dump(encoders, f)\n",
    "    \n",
    "    y = input_df[[\"Severity\"]]\n",
    "    X = input_df.drop(['Severity'],axis=1)\n",
    "    return X, y\n"
   ]
  },
  {
   "cell_type": "code",
   "execution_count": 15,
   "metadata": {},
   "outputs": [],
   "source": [
    "def loader(df):\n",
    "    '''\n",
    "    df should have the following features\n",
    "    -float:\n",
    "    'Temperature(F)', 'Wind_Chill(F)','Humidity(%)', 'Pressure(in)', 'Visibility(mi)‘,'Wind_Speed(mph)', 'Precipitation(in)'\n",
    "    -String(total have 140+ choices):\n",
    "    'Weather_Condition'\n",
    "    -Boolean(True or False):\n",
    "    'Amenity','Bump', 'Crossing', 'Give_Way', 'Junction', 'No_Exit', 'Railway',\n",
    "    'Roundabout', 'Station', 'Stop', 'Traffic_Calming', 'Traffic_Signal',\n",
    "       'Turning_Loop', 'Sunrise_Sunset'\n",
    "    -String(Day or Night):\n",
    "    'Civil_Twilight', 'Nautical_Twilight','Astronomical_Twilight'\n",
    "    '''\n",
    "    with open('label_encoders.pkl', 'rb') as f:\n",
    "        loaded_encoders = pickle.load(f)\n",
    "\n",
    "    for column in loaded_encoders:\n",
    "        df[column] = loaded_encoders[column].transform(df[column])\n",
    "    return df\n"
   ]
  },
  {
   "cell_type": "code",
   "execution_count": 17,
   "metadata": {},
   "outputs": [],
   "source": [
    "data_path = 'US_Accidents_March23.csv'\n",
    "df = pd.read_csv(data_path)"
   ]
  },
  {
   "cell_type": "code",
   "execution_count": 18,
   "metadata": {},
   "outputs": [],
   "source": [
    "# Preprocess data\n",
    "X, y = preprocessing(df)\n",
    "\n",
    "# Split data for training and testing\n",
    "X_train, X_test, y_train, y_test = train_test_split(X, y, test_size=0.3, random_state=42)\n"
   ]
  },
  {
   "cell_type": "code",
   "execution_count": 19,
   "metadata": {},
   "outputs": [
    {
     "name": "stderr",
     "output_type": "stream",
     "text": [
      "/var/folders/r4/l54jdjtx3ms0b_p6yqw0sj9c0000gn/T/ipykernel_44096/1997976796.py:4: DataConversionWarning: A column-vector y was passed when a 1d array was expected. Please change the shape of y to (n_samples,), for example using ravel().\n",
      "  random_forest.fit(X_train, y_train)\n"
     ]
    },
    {
     "name": "stdout",
     "output_type": "stream",
     "text": [
      "Random Forest Results: Accuracy=0.9426, Precision=0.6890, Recall=0.4351, F1 Score=0.5051\n"
     ]
    }
   ],
   "source": [
    "# Train Random Forest model\n",
    "from sklearn.metrics import accuracy_score, precision_score, recall_score, f1_score\n",
    "random_forest = RandomForestClassifier(n_estimators=100, random_state=42)\n",
    "random_forest.fit(X_train, y_train)\n",
    "y_pred_rf = random_forest.predict(X_test)\n",
    "\n",
    "# Evaluate Random Forest model\n",
    "accuracy_rf = accuracy_score(y_test, y_pred_rf)\n",
    "precision_rf = precision_score(y_test, y_pred_rf, average='macro', zero_division=0)\n",
    "recall_rf = recall_score(y_test, y_pred_rf, average='macro')\n",
    "f1_rf = f1_score(y_test, y_pred_rf, average='macro')\n",
    "print(\"Predicted Severity for Random Forest:\", y_pred_rf)\n",
    "print(f\"Random Forest Results: Accuracy={accuracy_rf:.4f}, Precision={precision_rf:.4f}, Recall={recall_rf:.4f}, F1 Score={f1_rf:.4f}\")\n"
   ]
  },
  {
   "cell_type": "code",
   "execution_count": 21,
   "metadata": {},
   "outputs": [
    {
     "name": "stderr",
     "output_type": "stream",
     "text": [
      "/Users/gongyichen/opt/anaconda3/lib/python3.9/site-packages/sklearn/utils/validation.py:1143: DataConversionWarning: A column-vector y was passed when a 1d array was expected. Please change the shape of y to (n_samples, ), for example using ravel().\n",
      "  y = column_or_1d(y, warn=True)\n"
     ]
    },
    {
     "name": "stdout",
     "output_type": "stream",
     "text": [
      "AdaBoost Results: Accuracy=0.9420, Precision=0.4389, Recall=0.2514, F1 Score=0.2453\n"
     ]
    }
   ],
   "source": [
    "# Train AdaBoost model\n",
    "adaboost = AdaBoostClassifier(n_estimators=100, random_state=42)\n",
    "adaboost.fit(X_train, y_train)\n",
    "y_pred_ab = adaboost.predict(X_test)\n",
    "\n",
    "# Evaluate AdaBoost model\n",
    "accuracy_ab = accuracy_score(y_test, y_pred_ab)\n",
    "precision_ab = precision_score(y_test, y_pred_ab, average='macro', zero_division=0)\n",
    "recall_ab = recall_score(y_test, y_pred_ab, average='macro')\n",
    "f1_ab = f1_score(y_test, y_pred_ab, average='macro')\n",
    "print(\"Predicted Severity for AdaBoost:\", y_pred_ab)\n",
    "print(f\"AdaBoost Results: Accuracy={accuracy_ab:.4f}, Precision={precision_ab:.4f}, Recall={recall_ab:.4f}, F1 Score={f1_ab:.4f}\")\n"
   ]
  },
  {
   "cell_type": "code",
   "execution_count": 24,
   "metadata": {},
   "outputs": [
    {
     "name": "stdout",
     "output_type": "stream",
     "text": [
      "XGBoost Results: Accuracy=0.9429, Precision=0.7795, Recall=0.2906, F1 Score=0.3119\n"
     ]
    }
   ],
   "source": [
    "# Train XGBoost model\n",
    "le = LabelEncoder()\n",
    "y = le.fit_transform(y)\n",
    "\n",
    "# Split the data\n",
    "X_train, X_test, y_train, y_test = train_test_split(X, y, test_size=0.3, random_state=42)\n",
    "\n",
    "xgboost = XGBClassifier(use_label_encoder=False, eval_metric='mlogloss', random_state=42)\n",
    "xgboost.fit(X_train, y_train)\n",
    "y_pred_xgb = xgboost.predict(X_test)\n",
    "\n",
    "# Evaluate XGBoost model\n",
    "accuracy_xgb = accuracy_score(y_test, y_pred_xgb)\n",
    "precision_xgb = precision_score(y_test, y_pred_xgb, average='macro', zero_division=0)\n",
    "recall_xgb = recall_score(y_test, y_pred_xgb, average='macro')\n",
    "f1_xgb = f1_score(y_test, y_pred_xgb, average='macro')\n",
    "print(\"Predicted Severity for XGBoost:\", y_pred_xgb)\n",
    "print(f\"XGBoost Results: Accuracy={accuracy_xgb:.4f}, Precision={precision_xgb:.4f}, Recall={recall_xgb:.4f}, F1 Score={f1_xgb:.4f}\")\n"
   ]
  },
  {
   "cell_type": "code",
   "execution_count": 26,
   "metadata": {},
   "outputs": [
    {
     "name": "stdout",
     "output_type": "stream",
     "text": [
      "Accuracy: 0.45\n",
      "Precision: 0.28\n",
      "Recall: 0.46\n",
      "F1 Score: 0.22\n"
     ]
    }
   ],
   "source": [
    "import xgboost as xgb\n",
    "from sklearn.utils.class_weight import compute_class_weight\n",
    "import numpy as np\n",
    "from sklearn.model_selection import train_test_split\n",
    "from sklearn.metrics import accuracy_score, precision_score, recall_score, f1_score\n",
    "\n",
    "classes = np.unique(y)\n",
    "weights = compute_class_weight(class_weight='balanced', classes=classes, y=y)\n",
    "class_weights = dict(zip(classes, weights))\n",
    "\n",
    "# Incorporate weights into DMatrix (used by XGBoost)\n",
    "dtrain = xgb.DMatrix(X_train, label=y_train, weight=[class_weights[i] for i in y_train])\n",
    "\n",
    "# Setting up parameters for XGBoost\n",
    "params = {\n",
    "    'max_depth': 3,\n",
    "    'eta': 0.1,\n",
    "    'objective': 'multi:softprob',\n",
    "    'num_class': len(classes),\n",
    "    'eval_metric': 'mlogloss'\n",
    "}\n",
    "\n",
    "# Training the model\n",
    "xgb_model = xgb.train(params, dtrain, num_boost_round=100)\n",
    "\n",
    "# Making predictions (need to convert X_test to DMatrix)\n",
    "dtest = xgb.DMatrix(X_test)\n",
    "y_pred = np.argmax(xgb_model.predict(dtest), axis=1)\n",
    "\n",
    "# Assuming you have already predicted `y_pred` using the weighted XGBoost model\n",
    "\n",
    "# Calculate evaluation metrics\n",
    "accuracy = accuracy_score(y_test, y_pred)\n",
    "precision = precision_score(y_test, y_pred, average='macro')\n",
    "recall = recall_score(y_test, y_pred, average='macro')\n",
    "f1 = f1_score(y_test, y_pred, average='macro')\n",
    "\n",
    "# Print the metrics\n",
    "print(\"Accuracy: {:.2f}\".format(accuracy))\n",
    "print(\"Precision: {:.2f}\".format(precision))\n",
    "print(\"Recall: {:.2f}\".format(recall))\n",
    "print(\"F1 Score: {:.2f}\".format(f1))\n"
   ]
  },
  {
   "cell_type": "code",
   "execution_count": 29,
   "metadata": {},
   "outputs": [],
   "source": [
    "with open('random_forest_model.pkl', 'wb') as file:\n",
    "    pickle.dump(random_forest, file)\n",
    "\n",
    "with open('adaboost_model.pkl', 'wb') as file:\n",
    "    pickle.dump(adaboost, file)\n",
    "\n",
    "with open('xgboost_model.pkl', 'wb') as file:\n",
    "    pickle.dump(xgboost, file)"
   ]
  }
 ],
 "metadata": {
  "kernelspec": {
   "display_name": "Python 3",
   "language": "python",
   "name": "python3"
  },
  "language_info": {
   "codemirror_mode": {
    "name": "ipython",
    "version": 3
   },
   "file_extension": ".py",
   "mimetype": "text/x-python",
   "name": "python",
   "nbconvert_exporter": "python",
   "pygments_lexer": "ipython3",
   "version": "3.9.18"
  }
 },
 "nbformat": 4,
 "nbformat_minor": 2
}
